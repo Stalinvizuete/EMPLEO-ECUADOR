{
 "cells": [
  {
   "cell_type": "markdown",
   "metadata": {},
   "source": [
    "# <div style=\"text-align: center\"> CARACTERIZACIÓN DEL EMPLEO JUVENIL EN EL ECUADOR </div>\n",
    "# <div style=\"text-align: center\"> ENEMDU DICIEMBRE 2020 </div>\n",
    "<img src=\"data:image/jpeg;base64,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\">\n",
    "\n",
    "## Introdcción\n",
    "El presente informe muestra los principales indicadores de empleo en el Ecuador a nivel nacional y para jóvenes con edades comprendidas entre 18 y 26 años de edad a fin de obtener un contraste del nivel de efectación que sufren los jovenes ecuatorianos en el mercado laboral respecto a los demas grupos de edad, adicionalmente se realiza un análisis exploratorio que caracteriza los factores que mantienen mayor influencia en el detrimento del empleo juvenil."
   ]
  },
  {
   "cell_type": "markdown",
   "metadata": {},
   "source": [
    "# Clasificación del empleo\n",
    "El el Ecuador la principal fuente de información para la caracterización y clasificación del empleo proviene del Instituto Ecuatoriano de Estadísticas y Censos INEC, el cual expone lo siguiente: \\\n",
    "___La nueva propuesta clasifica a la población con empleo en tres grupos: empleo adecuado, empleo inadecuado y empleo no clasificado. La característica de “adecuado o inadecuado” se determina por dos requerimientos: a) el cumplimiento de una jornada legal de trabajo, y b) el ganar al menos el salario básico unificado.___\n",
    "\\\n",
    "En este sentido la metodología de clasificación que se propone y mediante la cual se presentará los analisis respectivos es la siguiente:\n",
    "<img src=\"https://pbs.twimg.com/media/CtQSPD3WYAA90Yg.jpg\">\n"
   ]
  },
  {
   "cell_type": "code",
   "execution_count": 62,
   "metadata": {},
   "outputs": [],
   "source": [
    "#librerias\n",
    "import os\n",
    "import pandas as pd\n",
    "import math as mt\n",
    "import numpy as np\n",
    "import scipy\n",
    "import scipy.stats\n",
    "os.getcwd();\n",
    "\n",
    "#importar base de datos\n",
    "enem122020 = pd.read_stata('Data//202012_EnemduBDD_15anios.dta')\n",
    "\n",
    "#Depuracion de registros\n",
    "enem122020['p03']= pd.to_numeric(enem122020.p03, errors='coerce')# cambio de categorical to numeric\n",
    "\n",
    "#Definición de variables\n",
    "enem122020[\"joven\"]=\"no\" #variable joven\n",
    "enem122020.loc[(enem122020['p03']>=18) & (enem122020['p03']<27),\"joven\"]=\"si\" #variable joven para edad 18 a 26 años\n",
    "enem122020[\"peapon\"]= enem122020[\"pea\"]*enem122020[\"fexp\"] #PEA total, ponderada fexp\n",
    "enem122020.loc[enem122020[\"empleo\"]==\"PoblaciÃ³n con empleo\",\"emppon\"]=1*enem122020[\"fexp\"]#Empleo total, ponderada fexp\n",
    "enem122020.loc[enem122020[\"desempleo\"]==\"PoblaciÃ³n con desempleo\",\"desemppon\"]=1*enem122020[\"fexp\"]#Desempleo total, ponderada fexp\n",
    "\n"
   ]
  },
  {
   "cell_type": "code",
   "execution_count": 2,
   "metadata": {
    "scrolled": false
   },
   "outputs": [
    {
     "data": {
      "text/plain": [
       "' for column in enem122020:\\n  print(column)'"
      ]
     },
     "execution_count": 2,
     "metadata": {},
     "output_type": "execute_result"
    }
   ],
   "source": [
    "''' for column in enem122020:\n",
    "...   print(column)'''\n",
    "\n",
    "#df.columns.values"
   ]
  },
  {
   "cell_type": "code",
   "execution_count": 73,
   "metadata": {},
   "outputs": [
    {
     "data": {
      "text/html": [
       "<div>\n",
       "<style scoped>\n",
       "    .dataframe tbody tr th:only-of-type {\n",
       "        vertical-align: middle;\n",
       "    }\n",
       "\n",
       "    .dataframe tbody tr th {\n",
       "        vertical-align: top;\n",
       "    }\n",
       "\n",
       "    .dataframe thead th {\n",
       "        text-align: right;\n",
       "    }\n",
       "</style>\n",
       "<table border=\"1\" class=\"dataframe\">\n",
       "  <thead>\n",
       "    <tr style=\"text-align: right;\">\n",
       "      <th></th>\n",
       "      <th>Población</th>\n",
       "      <th>PEA</th>\n",
       "      <th>EMPLEO</th>\n",
       "      <th>DESEMPLEO</th>\n",
       "    </tr>\n",
       "  </thead>\n",
       "  <tbody>\n",
       "    <tr>\n",
       "      <th>0</th>\n",
       "      <td>Nacional</td>\n",
       "      <td>8090249.0</td>\n",
       "      <td>7688944.0</td>\n",
       "      <td>401305.0</td>\n",
       "    </tr>\n",
       "    <tr>\n",
       "      <th>1</th>\n",
       "      <td>Juvenil</td>\n",
       "      <td>1511397.0</td>\n",
       "      <td>1343333.0</td>\n",
       "      <td>168064.0</td>\n",
       "    </tr>\n",
       "  </tbody>\n",
       "</table>\n",
       "</div>"
      ],
      "text/plain": [
       "  Población        PEA     EMPLEO  DESEMPLEO\n",
       "0  Nacional  8090249.0  7688944.0   401305.0\n",
       "1   Juvenil  1511397.0  1343333.0   168064.0"
      ]
     },
     "execution_count": 73,
     "metadata": {},
     "output_type": "execute_result"
    }
   ],
   "source": [
    "#construcción de tabala de indicadores\n",
    "nombre=[\"Nacional\",\"Juvenil\"]# Variable de encabezados de segmento del data frame\n",
    "\n",
    "\n",
    "peana=enem122020['peapon'].sum().round()# PEA Nacional\n",
    "peajov=enem122020.loc[enem122020['joven']==\"si\",'peapon'].sum().round()#PEA Juvenil\n",
    "PEA = [peana,peajov]#Variable indicador PEA\n",
    "\n",
    "empna=enem122020['emppon'].sum().round()# EMPLEO Nacional\n",
    "empjov=enem122020.loc[enem122020['joven']==\"si\",'emppon'].sum().round()#EMPLEO Juvenil\n",
    "EMPLEO = [empna,empjov]#Variable indicador EMPLEO\n",
    "\n",
    "desempna=enem122020['desemppon'].sum().round()# DESEMPLEO Nacional\n",
    "desempjov=enem122020.loc[enem122020['joven']==\"si\",'desemppon'].sum().round()#DESEMPLEO Juvenil\n",
    "DESEMPLEO = [desempna,desempjov]#Variable indicador DESEMPLEO\n",
    "\n",
    "Indicadores=pd.DataFrame({'Población': nombre,'PEA': PEA,'EMPLEO': EMPLEO,'DESEMPLEO': DESEMPLEO})#Tabla de indicadores\n",
    "Indicadores"
   ]
  },
  {
   "cell_type": "markdown",
   "metadata": {},
   "source": [
    "# Población Económicamente Activa"
   ]
  },
  {
   "cell_type": "code",
   "execution_count": 84,
   "metadata": {},
   "outputs": [
    {
     "data": {
      "text/plain": [
       "18.681711774260595"
      ]
     },
     "execution_count": 84,
     "metadata": {},
     "output_type": "execute_result"
    }
   ],
   "source": [
    "(peajov/peana)*100"
   ]
  },
  {
   "cell_type": "code",
   "execution_count": 115,
   "metadata": {},
   "outputs": [
    {
     "data": {
      "text/html": [
       "<div>\n",
       "<style scoped>\n",
       "    .dataframe tbody tr th:only-of-type {\n",
       "        vertical-align: middle;\n",
       "    }\n",
       "\n",
       "    .dataframe tbody tr th {\n",
       "        vertical-align: top;\n",
       "    }\n",
       "\n",
       "    .dataframe thead th {\n",
       "        text-align: right;\n",
       "    }\n",
       "</style>\n",
       "<table border=\"1\" class=\"dataframe\">\n",
       "  <thead>\n",
       "    <tr style=\"text-align: right;\">\n",
       "      <th></th>\n",
       "      <th>peapon</th>\n",
       "    </tr>\n",
       "    <tr>\n",
       "      <th>p03</th>\n",
       "      <th></th>\n",
       "    </tr>\n",
       "  </thead>\n",
       "  <tbody>\n",
       "    <tr>\n",
       "      <th>0.0</th>\n",
       "      <td>0.000000</td>\n",
       "    </tr>\n",
       "    <tr>\n",
       "      <th>1.0</th>\n",
       "      <td>0.000000</td>\n",
       "    </tr>\n",
       "    <tr>\n",
       "      <th>2.0</th>\n",
       "      <td>0.000000</td>\n",
       "    </tr>\n",
       "    <tr>\n",
       "      <th>3.0</th>\n",
       "      <td>0.000000</td>\n",
       "    </tr>\n",
       "    <tr>\n",
       "      <th>4.0</th>\n",
       "      <td>0.000000</td>\n",
       "    </tr>\n",
       "    <tr>\n",
       "      <th>...</th>\n",
       "      <td>...</td>\n",
       "    </tr>\n",
       "    <tr>\n",
       "      <th>93.0</th>\n",
       "      <td>0.000000</td>\n",
       "    </tr>\n",
       "    <tr>\n",
       "      <th>94.0</th>\n",
       "      <td>366.318062</td>\n",
       "    </tr>\n",
       "    <tr>\n",
       "      <th>95.0</th>\n",
       "      <td>2119.167271</td>\n",
       "    </tr>\n",
       "    <tr>\n",
       "      <th>96.0</th>\n",
       "      <td>0.000000</td>\n",
       "    </tr>\n",
       "    <tr>\n",
       "      <th>97.0</th>\n",
       "      <td>0.000000</td>\n",
       "    </tr>\n",
       "  </tbody>\n",
       "</table>\n",
       "<p>98 rows × 1 columns</p>\n",
       "</div>"
      ],
      "text/plain": [
       "           peapon\n",
       "p03              \n",
       "0.0      0.000000\n",
       "1.0      0.000000\n",
       "2.0      0.000000\n",
       "3.0      0.000000\n",
       "4.0      0.000000\n",
       "...           ...\n",
       "93.0     0.000000\n",
       "94.0   366.318062\n",
       "95.0  2119.167271\n",
       "96.0     0.000000\n",
       "97.0     0.000000\n",
       "\n",
       "[98 rows x 1 columns]"
      ]
     },
     "execution_count": 115,
     "metadata": {},
     "output_type": "execute_result"
    }
   ],
   "source": [
    "# @title graficas\n",
    "aux=enem122020[[\"p03\",\"peapon\"]].groupby(\"p03\").sum()\n",
    "aux"
   ]
  },
  {
   "cell_type": "code",
   "execution_count": 94,
   "metadata": {},
   "outputs": [
    {
     "ename": "KeyError",
     "evalue": "'p03'",
     "output_type": "error",
     "traceback": [
      "\u001b[1;31m---------------------------------------------------------------------------\u001b[0m",
      "\u001b[1;31mKeyError\u001b[0m                                  Traceback (most recent call last)",
      "\u001b[1;32m~\\anaconda3\\lib\\site-packages\\pandas\\core\\indexes\\base.py\u001b[0m in \u001b[0;36mget_loc\u001b[1;34m(self, key, method, tolerance)\u001b[0m\n\u001b[0;32m   2894\u001b[0m             \u001b[1;32mtry\u001b[0m\u001b[1;33m:\u001b[0m\u001b[1;33m\u001b[0m\u001b[1;33m\u001b[0m\u001b[0m\n\u001b[1;32m-> 2895\u001b[1;33m                 \u001b[1;32mreturn\u001b[0m \u001b[0mself\u001b[0m\u001b[1;33m.\u001b[0m\u001b[0m_engine\u001b[0m\u001b[1;33m.\u001b[0m\u001b[0mget_loc\u001b[0m\u001b[1;33m(\u001b[0m\u001b[0mcasted_key\u001b[0m\u001b[1;33m)\u001b[0m\u001b[1;33m\u001b[0m\u001b[1;33m\u001b[0m\u001b[0m\n\u001b[0m\u001b[0;32m   2896\u001b[0m             \u001b[1;32mexcept\u001b[0m \u001b[0mKeyError\u001b[0m \u001b[1;32mas\u001b[0m \u001b[0merr\u001b[0m\u001b[1;33m:\u001b[0m\u001b[1;33m\u001b[0m\u001b[1;33m\u001b[0m\u001b[0m\n",
      "\u001b[1;32mpandas\\_libs\\index.pyx\u001b[0m in \u001b[0;36mpandas._libs.index.IndexEngine.get_loc\u001b[1;34m()\u001b[0m\n",
      "\u001b[1;32mpandas\\_libs\\index.pyx\u001b[0m in \u001b[0;36mpandas._libs.index.IndexEngine.get_loc\u001b[1;34m()\u001b[0m\n",
      "\u001b[1;32mpandas\\_libs\\hashtable_class_helper.pxi\u001b[0m in \u001b[0;36mpandas._libs.hashtable.PyObjectHashTable.get_item\u001b[1;34m()\u001b[0m\n",
      "\u001b[1;32mpandas\\_libs\\hashtable_class_helper.pxi\u001b[0m in \u001b[0;36mpandas._libs.hashtable.PyObjectHashTable.get_item\u001b[1;34m()\u001b[0m\n",
      "\u001b[1;31mKeyError\u001b[0m: 'p03'",
      "\nThe above exception was the direct cause of the following exception:\n",
      "\u001b[1;31mKeyError\u001b[0m                                  Traceback (most recent call last)",
      "\u001b[1;32m<ipython-input-94-920b35ef6b41>\u001b[0m in \u001b[0;36m<module>\u001b[1;34m\u001b[0m\n\u001b[0;32m      1\u001b[0m \u001b[1;32mimport\u001b[0m \u001b[0mmatplotlib\u001b[0m\u001b[1;33m.\u001b[0m\u001b[0mpyplot\u001b[0m \u001b[1;32mas\u001b[0m \u001b[0mplt\u001b[0m\u001b[1;33m\u001b[0m\u001b[1;33m\u001b[0m\u001b[0m\n\u001b[1;32m----> 2\u001b[1;33m \u001b[0mplt\u001b[0m\u001b[1;33m.\u001b[0m\u001b[0mbar\u001b[0m\u001b[1;33m(\u001b[0m\u001b[0maux\u001b[0m\u001b[1;33m[\u001b[0m\u001b[1;34m\"p03\"\u001b[0m\u001b[1;33m]\u001b[0m\u001b[1;33m,\u001b[0m \u001b[0maux\u001b[0m\u001b[1;33m[\u001b[0m\u001b[1;34m\"peapon\"\u001b[0m\u001b[1;33m]\u001b[0m\u001b[1;33m,\u001b[0m\u001b[0maling\u001b[0m\u001b[1;33m=\u001b[0m\u001b[1;34m\"center\"\u001b[0m\u001b[1;33m)\u001b[0m\u001b[1;33m\u001b[0m\u001b[1;33m\u001b[0m\u001b[0m\n\u001b[0m",
      "\u001b[1;32m~\\anaconda3\\lib\\site-packages\\pandas\\core\\frame.py\u001b[0m in \u001b[0;36m__getitem__\u001b[1;34m(self, key)\u001b[0m\n\u001b[0;32m   2900\u001b[0m             \u001b[1;32mif\u001b[0m \u001b[0mself\u001b[0m\u001b[1;33m.\u001b[0m\u001b[0mcolumns\u001b[0m\u001b[1;33m.\u001b[0m\u001b[0mnlevels\u001b[0m \u001b[1;33m>\u001b[0m \u001b[1;36m1\u001b[0m\u001b[1;33m:\u001b[0m\u001b[1;33m\u001b[0m\u001b[1;33m\u001b[0m\u001b[0m\n\u001b[0;32m   2901\u001b[0m                 \u001b[1;32mreturn\u001b[0m \u001b[0mself\u001b[0m\u001b[1;33m.\u001b[0m\u001b[0m_getitem_multilevel\u001b[0m\u001b[1;33m(\u001b[0m\u001b[0mkey\u001b[0m\u001b[1;33m)\u001b[0m\u001b[1;33m\u001b[0m\u001b[1;33m\u001b[0m\u001b[0m\n\u001b[1;32m-> 2902\u001b[1;33m             \u001b[0mindexer\u001b[0m \u001b[1;33m=\u001b[0m \u001b[0mself\u001b[0m\u001b[1;33m.\u001b[0m\u001b[0mcolumns\u001b[0m\u001b[1;33m.\u001b[0m\u001b[0mget_loc\u001b[0m\u001b[1;33m(\u001b[0m\u001b[0mkey\u001b[0m\u001b[1;33m)\u001b[0m\u001b[1;33m\u001b[0m\u001b[1;33m\u001b[0m\u001b[0m\n\u001b[0m\u001b[0;32m   2903\u001b[0m             \u001b[1;32mif\u001b[0m \u001b[0mis_integer\u001b[0m\u001b[1;33m(\u001b[0m\u001b[0mindexer\u001b[0m\u001b[1;33m)\u001b[0m\u001b[1;33m:\u001b[0m\u001b[1;33m\u001b[0m\u001b[1;33m\u001b[0m\u001b[0m\n\u001b[0;32m   2904\u001b[0m                 \u001b[0mindexer\u001b[0m \u001b[1;33m=\u001b[0m \u001b[1;33m[\u001b[0m\u001b[0mindexer\u001b[0m\u001b[1;33m]\u001b[0m\u001b[1;33m\u001b[0m\u001b[1;33m\u001b[0m\u001b[0m\n",
      "\u001b[1;32m~\\anaconda3\\lib\\site-packages\\pandas\\core\\indexes\\base.py\u001b[0m in \u001b[0;36mget_loc\u001b[1;34m(self, key, method, tolerance)\u001b[0m\n\u001b[0;32m   2895\u001b[0m                 \u001b[1;32mreturn\u001b[0m \u001b[0mself\u001b[0m\u001b[1;33m.\u001b[0m\u001b[0m_engine\u001b[0m\u001b[1;33m.\u001b[0m\u001b[0mget_loc\u001b[0m\u001b[1;33m(\u001b[0m\u001b[0mcasted_key\u001b[0m\u001b[1;33m)\u001b[0m\u001b[1;33m\u001b[0m\u001b[1;33m\u001b[0m\u001b[0m\n\u001b[0;32m   2896\u001b[0m             \u001b[1;32mexcept\u001b[0m \u001b[0mKeyError\u001b[0m \u001b[1;32mas\u001b[0m \u001b[0merr\u001b[0m\u001b[1;33m:\u001b[0m\u001b[1;33m\u001b[0m\u001b[1;33m\u001b[0m\u001b[0m\n\u001b[1;32m-> 2897\u001b[1;33m                 \u001b[1;32mraise\u001b[0m \u001b[0mKeyError\u001b[0m\u001b[1;33m(\u001b[0m\u001b[0mkey\u001b[0m\u001b[1;33m)\u001b[0m \u001b[1;32mfrom\u001b[0m \u001b[0merr\u001b[0m\u001b[1;33m\u001b[0m\u001b[1;33m\u001b[0m\u001b[0m\n\u001b[0m\u001b[0;32m   2898\u001b[0m \u001b[1;33m\u001b[0m\u001b[0m\n\u001b[0;32m   2899\u001b[0m         \u001b[1;32mif\u001b[0m \u001b[0mtolerance\u001b[0m \u001b[1;32mis\u001b[0m \u001b[1;32mnot\u001b[0m \u001b[1;32mNone\u001b[0m\u001b[1;33m:\u001b[0m\u001b[1;33m\u001b[0m\u001b[1;33m\u001b[0m\u001b[0m\n",
      "\u001b[1;31mKeyError\u001b[0m: 'p03'"
     ]
    }
   ],
   "source": [
    "import matplotlib.pyplot as plt\n",
    "plt.bar(aux[\"p03\"], aux[\"peapon\"],aling=\"center\")"
   ]
  },
  {
   "cell_type": "code",
   "execution_count": null,
   "metadata": {},
   "outputs": [],
   "source": []
  },
  {
   "cell_type": "code",
   "execution_count": 108,
   "metadata": {},
   "outputs": [
    {
     "name": "stdout",
     "output_type": "stream",
     "text": [
      "peapon\n"
     ]
    }
   ],
   "source": [
    "for column in aux:\n",
    "...   print(column)"
   ]
  },
  {
   "cell_type": "code",
   "execution_count": 111,
   "metadata": {},
   "outputs": [
    {
     "data": {
      "text/html": [
       "<div>\n",
       "<style scoped>\n",
       "    .dataframe tbody tr th:only-of-type {\n",
       "        vertical-align: middle;\n",
       "    }\n",
       "\n",
       "    .dataframe tbody tr th {\n",
       "        vertical-align: top;\n",
       "    }\n",
       "\n",
       "    .dataframe thead th {\n",
       "        text-align: right;\n",
       "    }\n",
       "</style>\n",
       "<table border=\"1\" class=\"dataframe\">\n",
       "  <thead>\n",
       "    <tr style=\"text-align: right;\">\n",
       "      <th></th>\n",
       "      <th>peapon</th>\n",
       "    </tr>\n",
       "    <tr>\n",
       "      <th>p03</th>\n",
       "      <th></th>\n",
       "    </tr>\n",
       "  </thead>\n",
       "  <tbody>\n",
       "    <tr>\n",
       "      <th>0.0</th>\n",
       "      <td>0.000000</td>\n",
       "    </tr>\n",
       "    <tr>\n",
       "      <th>1.0</th>\n",
       "      <td>0.000000</td>\n",
       "    </tr>\n",
       "    <tr>\n",
       "      <th>2.0</th>\n",
       "      <td>0.000000</td>\n",
       "    </tr>\n",
       "    <tr>\n",
       "      <th>3.0</th>\n",
       "      <td>0.000000</td>\n",
       "    </tr>\n",
       "    <tr>\n",
       "      <th>4.0</th>\n",
       "      <td>0.000000</td>\n",
       "    </tr>\n",
       "    <tr>\n",
       "      <th>...</th>\n",
       "      <td>...</td>\n",
       "    </tr>\n",
       "    <tr>\n",
       "      <th>93.0</th>\n",
       "      <td>0.000000</td>\n",
       "    </tr>\n",
       "    <tr>\n",
       "      <th>94.0</th>\n",
       "      <td>366.318062</td>\n",
       "    </tr>\n",
       "    <tr>\n",
       "      <th>95.0</th>\n",
       "      <td>2119.167271</td>\n",
       "    </tr>\n",
       "    <tr>\n",
       "      <th>96.0</th>\n",
       "      <td>0.000000</td>\n",
       "    </tr>\n",
       "    <tr>\n",
       "      <th>97.0</th>\n",
       "      <td>0.000000</td>\n",
       "    </tr>\n",
       "  </tbody>\n",
       "</table>\n",
       "<p>98 rows × 1 columns</p>\n",
       "</div>"
      ],
      "text/plain": [
       "           peapon\n",
       "p03              \n",
       "0.0      0.000000\n",
       "1.0      0.000000\n",
       "2.0      0.000000\n",
       "3.0      0.000000\n",
       "4.0      0.000000\n",
       "...           ...\n",
       "93.0     0.000000\n",
       "94.0   366.318062\n",
       "95.0  2119.167271\n",
       "96.0     0.000000\n",
       "97.0     0.000000\n",
       "\n",
       "[98 rows x 1 columns]"
      ]
     },
     "execution_count": 111,
     "metadata": {},
     "output_type": "execute_result"
    }
   ],
   "source": [
    "aux"
   ]
  },
  {
   "cell_type": "code",
   "execution_count": null,
   "metadata": {},
   "outputs": [],
   "source": []
  }
 ],
 "metadata": {
  "kernelspec": {
   "display_name": "Python 3",
   "language": "python",
   "name": "python3"
  },
  "language_info": {
   "codemirror_mode": {
    "name": "ipython",
    "version": 3
   },
   "file_extension": ".py",
   "mimetype": "text/x-python",
   "name": "python",
   "nbconvert_exporter": "python",
   "pygments_lexer": "ipython3",
   "version": "3.8.5"
  }
 },
 "nbformat": 4,
 "nbformat_minor": 4
}
